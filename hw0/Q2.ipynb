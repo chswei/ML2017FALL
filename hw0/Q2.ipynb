{
 "cells": [
  {
   "cell_type": "markdown",
   "metadata": {},
   "source": [
    "# Q2 圖片淡化\n",
    "1. 讀取 westbrook.jpg\n",
    "2. 將每個 pixel 的 RGB 數值都減半 (ex: (122, 244, 245) -> (61, 122, 122))，再將圖片輸出為 Q2.jpg\n",
    "3. RGB數值記得要去掉小數點！(無條件捨去)\n",
    "\n",
    "## [westbrook.jpg](https://drive.google.com/open?id=0Bw0wyv1P4HzARGoxQXNqVVJScDA)"
   ]
  },
  {
   "cell_type": "code",
   "execution_count": 1,
   "metadata": {
    "collapsed": true
   },
   "outputs": [],
   "source": [
    "from PIL import Image"
   ]
  },
  {
   "cell_type": "code",
   "execution_count": 7,
   "metadata": {},
   "outputs": [],
   "source": [
    "# Solution 1\n",
    "# Using getpixel/putpixel API\n",
    "img = Image.open(\"westbrook.jpg\")\n",
    "for x in range(img.size[0]):\n",
    "    for y in range(img.size[1]):\n",
    "        r, g, b = img.getpixel((x, y))\n",
    "        img.putpixel((x, y), (int(r/2), int(g/2), int(b/2)))\n",
    "img.save(\"Q2.jpg\")"
   ]
  },
  {
   "cell_type": "code",
   "execution_count": 8,
   "metadata": {
    "collapsed": true
   },
   "outputs": [],
   "source": [
    "# Solution 2\n",
    "# Using load() to load the picture into memory\n",
    "# And it will return a Pixel Access Object\n",
    "# Faster than solution 1\n",
    "img = Image.open(\"westbrook.jpg\")\n",
    "pixel = img.load()\n",
    "for x in range(img.size[0]):\n",
    "    for y in range(img.size[1]):\n",
    "        r, g, b = pixel[x, y]\n",
    "        pixel[x, y] = (int(r/2), int(g/2), int(b/2))\n",
    "img.save(\"Q2.jpg\")"
   ]
  },
  {
   "cell_type": "markdown",
   "metadata": {
    "collapsed": true
   },
   "source": [
    "References:\n",
    "- [Python图像处理库PIL从入门到精通](https://blog.csdn.net/column/details/pythonpil.html)\n",
    "- [透過PIL改變圖片的pixel](https://john850512.wordpress.com/2018/02/28/python%E9%80%8F%E9%81%8Epil%E6%94%B9%E8%AE%8A%E5%9C%96%E7%89%87%E7%9A%84pixel/)\n",
    "- [以Python Imaging Library進行影像資料處理](https://yungyuc.github.io/oldtech/python/python_imaging.html)"
   ]
  }
 ],
 "metadata": {
  "kernelspec": {
   "display_name": "Python 3",
   "language": "python",
   "name": "python3"
  },
  "language_info": {
   "codemirror_mode": {
    "name": "ipython",
    "version": 3
   },
   "file_extension": ".py",
   "mimetype": "text/x-python",
   "name": "python",
   "nbconvert_exporter": "python",
   "pygments_lexer": "ipython3",
   "version": "3.6.3"
  }
 },
 "nbformat": 4,
 "nbformat_minor": 2
}
