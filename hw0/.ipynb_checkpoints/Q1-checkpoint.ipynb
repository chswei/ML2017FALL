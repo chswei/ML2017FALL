{
 "cells": [
  {
   "cell_type": "markdown",
   "metadata": {},
   "source": [
    "# Q1 字數統計\n",
    "1. 讀取 words.txt 中的所有英文單字，英文單字之間皆由 < space > 做分隔\n",
    "2. 按照單字出現的順序，給予編號(0, 1, 2 ...)。 (不要跳號)\n",
    "3. 計算單字出現的次數。\n",
    "4. 將得到編號和次數，由單字出現在 words.txt 的順序輸出至 Q1.txt，最後一行不要換行，每一行皆為：\n",
    "<單字>< space ><編號>< space ><出現次數>\n",
    "5. Ntu, ntu 為不同單字\n",
    "\n",
    "## 輸出範例\n",
    "words.txt: (助教給的檔案)\n",
    "ntu ml mlds ml ntu ntuee\n",
    "\n",
    "Q1.txt: (輸出的檔案)\n",
    "ntu 0 2\n",
    "ml 1 2\n",
    "mlds 2 1\n",
    "ntuee 3 1\n",
    "\n",
    "## [words.txt](https://drive.google.com/open?id=0Bw0wyv1P4HzAM2FxLUxiWm5zTGs)\n",
    "\n",
    "---"
   ]
  },
  {
   "cell_type": "code",
   "execution_count": 106,
   "metadata": {
    "collapsed": true
   },
   "outputs": [],
   "source": [
    "# Read file, and split it into a list\n",
    "with open(\"words.txt\", \"r\") as file:\n",
    "    wordList = file.read().split()"
   ]
  },
  {
   "cell_type": "code",
   "execution_count": 107,
   "metadata": {
    "collapsed": true
   },
   "outputs": [],
   "source": [
    "# Get unique elements in the list\n",
    "wordUni = []\n",
    "for w in wordList:\n",
    "    if w not in wordUni:\n",
    "        wordUni.append(w)"
   ]
  },
  {
   "cell_type": "code",
   "execution_count": 132,
   "metadata": {
    "collapsed": true
   },
   "outputs": [],
   "source": [
    "# Numbering\n",
    "wordNum = list(range(len(wordUni)))\n",
    "wordNum = [str(item) for item in wordNum]"
   ]
  },
  {
   "cell_type": "code",
   "execution_count": 133,
   "metadata": {
    "collapsed": true
   },
   "outputs": [],
   "source": [
    "# Count word frequencies\n",
    "wordFreq = []\n",
    "for w in wordUni:\n",
    "    wordFreq.append(wordList.count(w))\n",
    "\n",
    "wordFreq = [str(item) for item in wordFreq]"
   ]
  },
  {
   "cell_type": "code",
   "execution_count": 138,
   "metadata": {
    "collapsed": true
   },
   "outputs": [],
   "source": [
    "# Zip all of them\n",
    "result = []\n",
    "for tup in zip(wordUni, wordNum, wordFreq):\n",
    "    result.append(\" \".join(tup))"
   ]
  },
  {
   "cell_type": "code",
   "execution_count": 139,
   "metadata": {
    "collapsed": true
   },
   "outputs": [],
   "source": [
    "# Write file\n",
    "Q1 = open('Q1.txt', 'w')  \n",
    "for r in result:  \n",
    "    Q1.write(r)  \n",
    "    Q1.write('\\n')  \n",
    "Q1.close()  "
   ]
  },
  {
   "cell_type": "markdown",
   "metadata": {},
   "source": [
    "References:\n",
    "- [Reading txt file](https://ithelp.ithome.com.tw/articles/10161708)\n",
    "- [`split()`](https://blog.csdn.net/doiido/article/details/43204675)\n",
    "- [Counting Word Frequencies](https://programminghistorian.org/lessons/counting-frequencies)\n",
    "- [Python Exercise: Unique elements from a list](https://www.w3resource.com/python-exercises/python-functions-exercise-8.php)\n",
    "- [`zip()`](http://www.runoob.com/python/python-func-zip.html)\n",
    "- [How do I merge two lists into a single list?](https://stackoverflow.com/questions/3471999/how-do-i-merge-two-lists-into-a-single-list)\n",
    "- [Writing txt file](https://blog.csdn.net/guoweish/article/details/47106263)"
   ]
  }
 ],
 "metadata": {
  "kernelspec": {
   "display_name": "Python 3",
   "language": "python",
   "name": "python3"
  },
  "language_info": {
   "codemirror_mode": {
    "name": "ipython",
    "version": 3
   },
   "file_extension": ".py",
   "mimetype": "text/x-python",
   "name": "python",
   "nbconvert_exporter": "python",
   "pygments_lexer": "ipython3",
   "version": "3.6.3"
  }
 },
 "nbformat": 4,
 "nbformat_minor": 2
}
