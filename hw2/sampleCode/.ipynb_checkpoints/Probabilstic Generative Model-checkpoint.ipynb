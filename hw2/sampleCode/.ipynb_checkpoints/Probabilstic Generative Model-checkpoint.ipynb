{
 "cells": [
  {
   "cell_type": "markdown",
   "metadata": {},
   "source": [
    "忽略在logistic regression同樣出現的function\n",
    "1. IO\n",
    "2. shuffle\n",
    "3. normalize\n",
    "4. split valid set\n",
    "5. sigmoid\n",
    "\n",
    "# import library"
   ]
  },
  {
   "cell_type": "code",
   "execution_count": 1,
   "metadata": {},
   "outputs": [],
   "source": [
    "import os, sys\n",
    "import pandas as pd\n",
    "import numpy as np\n",
    "from random import shuffle\n",
    "import argparse\n",
    "from math import log, floor"
   ]
  },
  {
   "cell_type": "markdown",
   "metadata": {},
   "source": [
    "# get valid score"
   ]
  },
  {
   "cell_type": "code",
   "execution_count": 2,
   "metadata": {},
   "outputs": [],
   "source": [
    "def valid(X_valid, Y_valid, mu1, mu2, shared_sigma, N1, N2):\n",
    "    sigma_inverse = np.linalg.inv(shared_sigma)\n",
    "    w = np.dot( (mu1-mu2), sigma_inverse)\n",
    "    x = X_valid.T\n",
    "    b = (-0.5) * np.dot(np.dot([mu1], sigma_inverse), mu1) + (0.5) * np.dot(np.dot([mu2], sigma_inverse), mu2) + np.log(float(N1)/N2)\n",
    "    a = np.dot(w, x) + b\n",
    "    y = sigmoid(a)\n",
    "    y_ = np.around(y)\n",
    "    result = (np.squeeze(Y_valid) == y_)\n",
    "    print('Valid acc = %f' % (float(result.sum()) / result.shape[0]))\n",
    "    return"
   ]
  },
  {
   "cell_type": "markdown",
   "metadata": {},
   "source": [
    "# train model"
   ]
  },
  {
   "cell_type": "code",
   "execution_count": 3,
   "metadata": {},
   "outputs": [],
   "source": [
    "def train(X_all, Y_all, save_dir):\n",
    "    # Split a 10%-validation set from the training set\n",
    "    valid_set_percentage = 0.1\n",
    "    X_train, Y_train, X_valid, Y_valid = split_valid_set(X_all, Y_all, valid_set_percentage)\n",
    "    \n",
    "    # Gaussian distribution parameters\n",
    "    train_data_size = X_train.shape[0]\n",
    "    cnt1 = 0\n",
    "    cnt2 = 0\n",
    "\n",
    "    mu1 = np.zeros((106,))\n",
    "    mu2 = np.zeros((106,))\n",
    "    for i in range(train_data_size):\n",
    "        if Y_train[i] == 1:\n",
    "            mu1 += X_train[i]\n",
    "            cnt1 += 1\n",
    "        else:\n",
    "            mu2 += X_train[i]\n",
    "            cnt2 += 1\n",
    "    mu1 /= cnt1\n",
    "    mu2 /= cnt2\n",
    "\n",
    "    sigma1 = np.zeros((106,106))\n",
    "    sigma2 = np.zeros((106,106))\n",
    "    for i in range(train_data_size):\n",
    "        if Y_train[i] == 1:\n",
    "            sigma1 += np.dot(np.transpose([X_train[i] - mu1]), [(X_train[i] - mu1)])\n",
    "        else:\n",
    "            sigma2 += np.dot(np.transpose([X_train[i] - mu2]), [(X_train[i] - mu2)])\n",
    "    sigma1 /= cnt1\n",
    "    sigma2 /= cnt2\n",
    "    shared_sigma = (float(cnt1) / train_data_size) * sigma1 + (float(cnt2) / train_data_size) * sigma2\n",
    "    N1 = cnt1\n",
    "    N2 = cnt2\n",
    "\n",
    "    print('=====Saving Param=====')\n",
    "    if not os.path.exists(save_dir):\n",
    "        os.mkdir(save_dir)\n",
    "    param_dict = {'mu1':mu1, 'mu2':mu2, 'shared_sigma':shared_sigma, 'N1':[N1], 'N2':[N2]}\n",
    "    for key in sorted(param_dict):\n",
    "        print('Saving %s' % key)\n",
    "        np.savetxt(os.path.join(save_dir, ('%s' % key)), param_dict[key])\n",
    "    \n",
    "    print('=====Validating=====')\n",
    "    valid(X_valid, Y_valid, mu1, mu2, shared_sigma, N1, N2)\n",
    "\n",
    "    return"
   ]
  },
  {
   "cell_type": "markdown",
   "metadata": {},
   "source": [
    "# infer & output ans.csv"
   ]
  },
  {
   "cell_type": "code",
   "execution_count": 4,
   "metadata": {},
   "outputs": [],
   "source": [
    "def infer(X_test, save_dir, output_dir):\n",
    "    # Load parameters\n",
    "    print('=====Loading Param from %s=====' % save_dir)\n",
    "    mu1 = np.loadtxt(os.path.join(save_dir, 'mu1'))\n",
    "    mu2 = np.loadtxt(os.path.join(save_dir, 'mu2'))\n",
    "    shared_sigma = np.loadtxt(os.path.join(save_dir, 'shared_sigma'))\n",
    "    N1 = np.loadtxt(os.path.join(save_dir, 'N1'))\n",
    "    N2 = np.loadtxt(os.path.join(save_dir, 'N2'))\n",
    "\n",
    "    # Predict\n",
    "    sigma_inverse = np.linalg.inv(shared_sigma)\n",
    "    w = np.dot( (mu1-mu2), sigma_inverse)\n",
    "    x = X_test.T\n",
    "    b = (-0.5) * np.dot(np.dot([mu1], sigma_inverse), mu1) + (0.5) * np.dot(np.dot([mu2], sigma_inverse), mu2) + np.log(float(N1)/N2)\n",
    "    a = np.dot(w, x) + b\n",
    "    y = sigmoid(a)\n",
    "    y_ = np.around(y)\n",
    "\n",
    "    print('=====Write output to %s =====' % output_dir)\n",
    "    # Write output\n",
    "    if not os.path.exists(output_dir):\n",
    "        os.mkdir(output_dir)\n",
    "    output_path = os.path.join(output_dir, 'prediction.csv')\n",
    "    with open(output_path, 'w') as f:\n",
    "        f.write('id,label\\n')\n",
    "        for i, v in  enumerate(y_):\n",
    "            f.write('%d,%d\\n' %(i+1, v))\n",
    "\n",
    "    return"
   ]
  },
  {
   "cell_type": "markdown",
   "metadata": {},
   "source": [
    "# main block"
   ]
  },
  {
   "cell_type": "code",
   "execution_count": 5,
   "metadata": {},
   "outputs": [
    {
     "name": "stderr",
     "output_type": "stream",
     "text": [
      "usage: ipykernel_launcher.py [-h] [--train | --infer]\n",
      "                             [--train_data_path TRAIN_DATA_PATH]\n",
      "                             [--train_label_path TRAIN_LABEL_PATH]\n",
      "                             [--test_data_path TEST_DATA_PATH]\n",
      "                             [--save_dir SAVE_DIR] [--output_dir OUTPUT_DIR]\n",
      "ipykernel_launcher.py: error: unrecognized arguments: -f /Users/chswei/Library/Jupyter/runtime/kernel-7f32134b-37e3-42ee-8bab-c39f03aa50b8.json\n"
     ]
    },
    {
     "ename": "SystemExit",
     "evalue": "2",
     "output_type": "error",
     "traceback": [
      "An exception has occurred, use %tb to see the full traceback.\n",
      "\u001b[0;31mSystemExit\u001b[0m\u001b[0;31m:\u001b[0m 2\n"
     ]
    },
    {
     "name": "stderr",
     "output_type": "stream",
     "text": [
      "/anaconda3/lib/python3.6/site-packages/IPython/core/interactiveshell.py:2971: UserWarning: To exit: use 'exit', 'quit', or Ctrl-D.\n",
      "  warn(\"To exit: use 'exit', 'quit', or Ctrl-D.\", stacklevel=1)\n"
     ]
    }
   ],
   "source": [
    "def main(opts):\n",
    "    # Load feature and label\n",
    "    X_all, Y_all, X_test = load_data(opts.train_data_path, opts.train_label_path, opts.test_data_path)\n",
    "    # Normalization\n",
    "    X_all, X_test = normalize(X_all, X_test)\n",
    "    \n",
    "    # To train or to infer\n",
    "    if opts.train:\n",
    "        train(X_all, Y_all, opts.save_dir)\n",
    "    elif opts.infer:\n",
    "        infer(X_test, opts.save_dir, opts.output_dir)\n",
    "    else:\n",
    "        print(\"Error: Argument --train or --infer not found\")\n",
    "    return\n",
    "\n",
    "if __name__ == '__main__':\n",
    "    parser = argparse.ArgumentParser(\n",
    "                description='Probabilistic Generative Model for Binary Classification'\n",
    "             )\n",
    "    group = parser.add_mutually_exclusive_group()\n",
    "    group.add_argument('--train', action='store_true', default=False,\n",
    "                        dest='train', help='Input --train to Train')\n",
    "    group.add_argument('--infer', action='store_true',default=False,\n",
    "                        dest='infer', help='Input --infer to Infer')\n",
    "    parser.add_argument('--train_data_path', type=str,\n",
    "                        default='feature/X_train', dest='train_data_path',\n",
    "                        help='Path to training data')\n",
    "    parser.add_argument('--train_label_path', type=str,\n",
    "                        default='feature/Y_train', dest='train_label_path',\n",
    "                        help='Path to training data\\'s label')\n",
    "    parser.add_argument('--test_data_path', type=str,\n",
    "                        default='feature/X_test', dest='test_data_path',\n",
    "                        help='Path to testing data')\n",
    "    parser.add_argument('--save_dir', type=str, \n",
    "                        default='generative_params/', dest='save_dir',\n",
    "                        help='Path to save the model parameters')\n",
    "    parser.add_argument('--output_dir', type=str, \n",
    "                        default='generative_output/', dest='output_dir',\n",
    "                        help='Path to save output')\n",
    "    opts = parser.parse_args()\n",
    "    main(opts)"
   ]
  },
  {
   "cell_type": "code",
   "execution_count": null,
   "metadata": {},
   "outputs": [],
   "source": []
  }
 ],
 "metadata": {
  "kernelspec": {
   "display_name": "Python 3",
   "language": "python",
   "name": "python3"
  },
  "language_info": {
   "codemirror_mode": {
    "name": "ipython",
    "version": 3
   },
   "file_extension": ".py",
   "mimetype": "text/x-python",
   "name": "python",
   "nbconvert_exporter": "python",
   "pygments_lexer": "ipython3",
   "version": "3.6.5"
  }
 },
 "nbformat": 4,
 "nbformat_minor": 2
}
